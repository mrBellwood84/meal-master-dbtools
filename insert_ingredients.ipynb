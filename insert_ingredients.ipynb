{
 "cells": [
  {
   "cell_type": "code",
   "execution_count": null,
   "id": "ecf38468",
   "metadata": {},
   "outputs": [],
   "source": [
    "from modules.inserter.collection import *\n",
    "from modules.inserter.DataCollection import DataCollection\n",
    "from modules.inserter.IdCollection import IdCollection\n",
    "from modules.inserter.IngredientDataset import IngredientDataset\n",
    "from modules.filemanager import add_to_quickadd\n",
    "\n",
    "data = DataCollection()\n",
    "ids = IdCollection()"
   ]
  },
  {
   "cell_type": "code",
   "execution_count": null,
   "id": "3e6b894c",
   "metadata": {},
   "outputs": [],
   "source": [
    "enumerate_category_ingredients(data.categories)"
   ]
  },
  {
   "cell_type": "code",
   "execution_count": null,
   "id": "ea0da422",
   "metadata": {},
   "outputs": [],
   "source": [
    "# Sett navn for søk\n",
    "query_name = \"tomat\"\n",
    "\n",
    "query_food_data(data.foods, query_name)"
   ]
  },
  {
   "cell_type": "code",
   "execution_count": null,
   "id": "0d67a929",
   "metadata": {},
   "outputs": [],
   "source": [
    "# Sett indeks for valgt ingrediens fra liste\n",
    "set_index = input_ingredient_index(0, len(data.foods), query_name)\n",
    "\n",
    "# Set annet navn dersom det skal være anderledes enn fra søkeord\n",
    "set_name = input_ingredient_name(query_name, data.foods[set_index][\"foodName\"] )\n",
    "\n",
    "# set kategorier, flere er tillatt\n",
    "set_categories = input_ingredientcategory_index(0,19, set_name)\n",
    "\n",
    "# legg til i quick add fil\n",
    "set_quickadd = True"
   ]
  },
  {
   "cell_type": "code",
   "execution_count": null,
   "id": "74971532",
   "metadata": {},
   "outputs": [],
   "source": [
    "if not set_name: set_name = query_name\n",
    "\n",
    "dataset = IngredientDataset(set_name, set_index, set_categories)\n",
    "dataset.insert_to_db()\n",
    "\n",
    "if set_quickadd and not dataset.entities_exist: add_to_quickadd(set_name, set_index, set_categories)"
   ]
  }
 ],
 "metadata": {
  "kernelspec": {
   "display_name": ".venv",
   "language": "python",
   "name": "python3"
  },
  "language_info": {
   "codemirror_mode": {
    "name": "ipython",
    "version": 3
   },
   "file_extension": ".py",
   "mimetype": "text/x-python",
   "name": "python",
   "nbconvert_exporter": "python",
   "pygments_lexer": "ipython3",
   "version": "3.13.2"
  }
 },
 "nbformat": 4,
 "nbformat_minor": 5
}
