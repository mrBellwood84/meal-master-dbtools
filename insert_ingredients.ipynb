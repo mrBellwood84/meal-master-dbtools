{
 "cells": [
  {
   "cell_type": "code",
   "execution_count": 1,
   "id": "ecf38468",
   "metadata": {},
   "outputs": [],
   "source": [
    "from modules.inserter.collection import *\n",
    "from modules.inserter.DataCollection import DataCollection\n",
    "from modules.inserter.IdCollection import IdCollection\n",
    "from modules.inserter.IngredientDataset import IngredientDataset\n",
    "from modules.filemanager import add_to_quickadd\n",
    "\n",
    "data = DataCollection()\n",
    "ids = IdCollection()"
   ]
  },
  {
   "cell_type": "code",
   "execution_count": 2,
   "id": "3e6b894c",
   "metadata": {},
   "outputs": [
    {
     "name": "stdout",
     "output_type": "stream",
     "text": [
      "KATEGORIER FOR INGREDIENSER:\n",
      "\n",
      " 0: bær                  1: bakevarer            2: belgvekst            3: diverse              4: egg\n",
      " 5: fett                 6: fisk                 7: frø                  8: frukt                9: fugl\n",
      "10: grønnsak            11: kjøtt               12: korn                13: krydder             14: meieri\n",
      "15: melk                16: nøtter              17: skalldyr            18: sukker              19: urter\n"
     ]
    }
   ],
   "source": [
    "enumerate_category_ingredients(data.categories)"
   ]
  },
  {
   "cell_type": "code",
   "execution_count": 3,
   "id": "ea0da422",
   "metadata": {},
   "outputs": [
    {
     "name": "stdout",
     "output_type": "stream",
     "text": [
      "SØK: \"tomat\"\n",
      "\n",
      "170: Brisling, i tomat, hermetisk\n",
      "195: Bruschetta, med tomat og basilikum\n",
      "289: Cherrytomat, importert, rå\n",
      "430: Fiskegryte, med torsk og tomat\n",
      "553: Grønnsaksrøre, med tomat, Ratatouille\n",
      "790: Ketchup, tomatketchup\n",
      "964: Kyllinggryte, med tomat, løk, sopp\n",
      "1101: Makrell i tomat, 60 % makrell, hermetisk, First Price\n",
      "1102: Makrell i tomat, 60 % makrell, hermetisk, Stabburet\n",
      "1103: Makrell i tomat, 70 % makrell, hermetisk, Stabburet\n",
      "1104: Makrell i tomat, hermetisk\n",
      "1105: Makrell i tomat, hermetisk, King Oscar\n",
      "1383: Pizza, med tomatsaus og ost\n",
      "1965: Taffelost, tomat\n",
      "1982: Tomat, hakket, tetrapak\n",
      "1983: Tomat, hermetisk\n",
      "1984: Tomat, importert, rå\n",
      "1985: Tomat, kokt\n",
      "1986: Tomat, norsk, rå\n",
      "1987: Tomat, uspesifisert, rå\n",
      "1988: Tomatbønner, hvite bønner, i tomatsaus, hermetisk\n",
      "1989: Tomater, soltørkede, innlagte i olje, avrent\n",
      "1990: Tomater, soltørkede, tørr\n",
      "1991: Tomatjuice\n",
      "1992: Tomatpuré\n",
      "1993: Tomatsalsa\n",
      "1994: Tomatsuppe, Rett i koppen\n",
      "1995: Tomatsuppe, av pulver\n",
      "1996: Tomatsuppe, med makaroni, av pulver\n",
      "1997: Tomatsuppe, pulver\n"
     ]
    }
   ],
   "source": [
    "# Sett navn for søk\n",
    "query_name = \"tomat\"\n",
    "\n",
    "query_food_data(data.foods, query_name)"
   ]
  },
  {
   "cell_type": "code",
   "execution_count": 4,
   "id": "0d67a929",
   "metadata": {},
   "outputs": [],
   "source": [
    "# Sett indeks for valgt ingrediens fra liste\n",
    "set_index = input_ingredient_index(0, len(data.foods), query_name)\n",
    "\n",
    "# Set annet navn dersom det skal være anderledes enn fra søkeord\n",
    "set_name = input_ingredient_name(query_name, data.foods[set_index][\"foodName\"] )\n",
    "\n",
    "# set kategorier, flere er tillatt\n",
    "set_categories = input_ingredientcategory_index(0,19, set_name)\n",
    "\n",
    "# legg til i quick add fil\n",
    "set_quickadd = True"
   ]
  },
  {
   "cell_type": "code",
   "execution_count": 5,
   "id": "74971532",
   "metadata": {},
   "outputs": [
    {
     "name": "stdout",
     "output_type": "stream",
     "text": [
      "'tomat' inserted to database\n"
     ]
    }
   ],
   "source": [
    "if not set_name: set_name = query_name\n",
    "\n",
    "dataset = IngredientDataset(set_name, set_index, set_categories)\n",
    "dataset.insert_to_db()\n",
    "\n",
    "if set_quickadd and not dataset.entities_exist: add_to_quickadd(set_name, set_index, set_categories)"
   ]
  }
 ],
 "metadata": {
  "kernelspec": {
   "display_name": ".venv",
   "language": "python",
   "name": "python3"
  },
  "language_info": {
   "codemirror_mode": {
    "name": "ipython",
    "version": 3
   },
   "file_extension": ".py",
   "mimetype": "text/x-python",
   "name": "python",
   "nbconvert_exporter": "python",
   "pygments_lexer": "ipython3",
   "version": "3.13.2"
  }
 },
 "nbformat": 4,
 "nbformat_minor": 5
}
