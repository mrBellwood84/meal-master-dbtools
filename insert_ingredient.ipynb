{
 "cells": [
  {
   "cell_type": "code",
   "execution_count": 25,
   "id": "99b8dfc0",
   "metadata": {},
   "outputs": [],
   "source": [
    "from uuid import uuid4\n",
    "from modules.config import *\n",
    "from modules.filemanager import read_json_file\n",
    "from modules.sql import *\n",
    "\n",
    "foods_data = read_json_file(FOOD_FILE_JSON)[\"foods\"]\n",
    "nutrients_data = db_query(\"select * from nutrienttype\")\n",
    "ingredientCategories = db_query(\"select * from ingredientcategory\")\n",
    "\n",
    "messure_dl_id = db_query_single(\"select id from messure where shortname = 'dl'\")[0]\n",
    "messure_skive_id = db_query_single(\"select id from messure where shortname = 'skive'\")[0]\n",
    "messure_stk_id = db_query_single(\"select id from messure where shortname = 'stk'\")[0]\n",
    "messure_g_id = db_query_single(\"select id from messure where shortname = 'g'\")[0]\n",
    "\n",
    "nutrient_kj_id = db_query_single(\"select id from nutrienttype where name = 'energi'\")[0]\n",
    "nutrient_kcal_id = db_query_single(\"select id from nutrienttype where name = 'kalorier'\")[0]"
   ]
  },
  {
   "cell_type": "code",
   "execution_count": 26,
   "id": "75990fb8",
   "metadata": {},
   "outputs": [],
   "source": [
    "def query_food(datalist: list[dict], query_string):\n",
    "    indexed_result = []\n",
    "    for i,v in enumerate(datalist):\n",
    "        if query_string.lower() in v[\"foodName\"].lower():\n",
    "            indexed_result.append((i,v[\"foodName\"]))\n",
    "    for v in indexed_result:\n",
    "        print(v)\n",
    "\n",
    "def resolve_messure(portions: list[dict]):\n",
    "    for p in portions:\n",
    "        if p[\"portionName\"] == \"desiliter\": return messure_dl_id, p[\"quantity\"]\n",
    "        if p[\"portionName\"] == \"stk\": return messure_stk_id, p[\"quantity\"]\n",
    "        if p[\"portionName\"] == \"skive\": return messure_skive_id, p[\"quantity\"]\n",
    "        return messure_g_id, 1"
   ]
  },
  {
   "cell_type": "code",
   "execution_count": 27,
   "id": "a7a34b53",
   "metadata": {},
   "outputs": [
    {
     "name": "stdout",
     "output_type": "stream",
     "text": [
      "0 - frukt\n",
      "1 - grønnsak\n",
      "2 - gryn\n",
      "3 - meieri\n",
      "4 - melk\n"
     ]
    }
   ],
   "source": [
    "for i,v in enumerate(ingredientCategories):\n",
    "    print(f\"{i} - {v[1]}\")"
   ]
  },
  {
   "cell_type": "code",
   "execution_count": 28,
   "id": "2c49af10",
   "metadata": {},
   "outputs": [],
   "source": [
    "# select categories for food item\n",
    "select_categories = [0,1]"
   ]
  },
  {
   "cell_type": "code",
   "execution_count": 37,
   "id": "9dd3b7e1",
   "metadata": {},
   "outputs": [
    {
     "name": "stdout",
     "output_type": "stream",
     "text": [
      "(74, 'Barnemat, flerkornsgrøt med eple og pære, fra 12 mnd, pulver, Småfolk')\n",
      "(371, 'Eple, Granny Smith, Golden Delicious, rå')\n",
      "(372, 'Eple, Ingrid Marie, rå')\n",
      "(373, 'Eple, Pink lady, rå')\n",
      "(374, 'Eple, Rød aroma, rå')\n",
      "(375, 'Eple, hermetisk')\n",
      "(376, 'Eple, importert, rå')\n",
      "(377, 'Eple, norsk, uspesifisert, rå')\n",
      "(378, 'Eple, tørket')\n",
      "(379, 'Eple, uspesifisert, rå')\n",
      "(380, 'Eplecidereddik')\n",
      "(381, 'Eplejuice, most')\n",
      "(382, 'Eplekake')\n",
      "(383, 'Eplemos')\n",
      "(384, 'Eplemos, lett')\n",
      "(385, 'Eplemos, uten tilsatt sukker')\n",
      "(386, 'Eplenektar')\n",
      "(387, 'Eplepai')\n",
      "(479, 'Fyrstekake, med epler')\n",
      "(511, 'Granateple, rå')\n",
      "(512, 'Granateplekjerner, fryst')\n",
      "(724, 'Juice, med eple, gulrot, ingefær og sitron, kjøpt i kafé/bakeri')\n",
      "(1301, 'Paradisepler, rå')\n",
      "(1785, 'Smoothie, blåbær og eple')\n",
      "(1794, 'Smuldrepai, med eple')\n",
      "(1937, 'Syrnet melk, rødbete/eple/lime, Biola')\n"
     ]
    }
   ],
   "source": [
    "# Enter food to query\n",
    "name_query = \"eple\"\n",
    "\n",
    "exist_in_db = db_query_single(f\"select * from ingredient where name = '{name_query}'\") != None\n",
    "\n",
    "query_food(foods_data, name_query)\n"
   ]
  },
  {
   "cell_type": "code",
   "execution_count": 38,
   "id": "d668ba5f",
   "metadata": {},
   "outputs": [],
   "source": [
    "# select index for food and selected entity name\n",
    "# source uri will stop any dupicate entries\n",
    "index = 377\n",
    "entity_name = \"\"\n",
    "\n",
    "\n",
    "if not entity_name: entity_name = name_query\n",
    "\n",
    "# get data to process for selected index\n",
    "data = foods_data[index]\n",
    "\n",
    "\n",
    "data_source = data[\"uri\"]\n",
    "data_portions = data[\"portions\"]\n",
    "data_energy = data[\"energy\"]\n",
    "data_calories = data[\"calories\"]\n",
    "data_nutrients = data[\"constituents\"]\n",
    "data_nutrients = [x for x in data_nutrients if x[\"sourceId\"] != \"10\"]\n",
    "\n",
    "messure_id, ratio = resolve_messure(data_portions)"
   ]
  },
  {
   "cell_type": "code",
   "execution_count": 39,
   "id": "fc6067b8",
   "metadata": {},
   "outputs": [
    {
     "data": {
      "text/plain": [
       "{'id': 'afffebb1-388d-414d-aabc-95b1ce01ec50',\n",
       " 'name': 'eple',\n",
       " 'volumeWeightRatio': 1,\n",
       " 'messureId': 'ddcae6e7-26a9-11f0-b7b0-d85ed33237df'}"
      ]
     },
     "execution_count": 39,
     "metadata": {},
     "output_type": "execute_result"
    }
   ],
   "source": [
    "# create ingredient entity\n",
    "ingredient_entity = {\n",
    "    \"id\": str(uuid4()),\n",
    "    \"name\": entity_name.lower(),\n",
    "    \"volumeWeightRatio\": ratio,\n",
    "    \"messureId\": messure_id,\n",
    "}\n",
    "\n",
    "ingredient_entity"
   ]
  },
  {
   "cell_type": "code",
   "execution_count": 40,
   "id": "bf2ca264",
   "metadata": {},
   "outputs": [
    {
     "data": {
      "text/plain": [
       "{'id': 'b243bfbc-7002-4490-b10e-e3a4a8daf68a',\n",
       " 'text': 'https://www.matvaretabellen.no/eple-norsk-uspesifisert-ra/',\n",
       " 'typeId': 'ddd16f90-26a9-11f0-b7b0-d85ed33237df',\n",
       " 'ingredientId': 'afffebb1-388d-414d-aabc-95b1ce01ec50'}"
      ]
     },
     "execution_count": 40,
     "metadata": {},
     "output_type": "execute_result"
    }
   ],
   "source": [
    "# create source entity\n",
    "sourcetypeId = db_query_single(\"select id from sourcetype where type = 'href'\")[0]\n",
    "\n",
    "source_entity = {\n",
    "    \"id\": str(uuid4()),\n",
    "    \"text\": data_source,\n",
    "    \"typeId\": sourcetypeId,\n",
    "    \"ingredientId\": ingredient_entity[\"id\"]\n",
    "}\n",
    "\n",
    "source_entity"
   ]
  },
  {
   "cell_type": "code",
   "execution_count": 41,
   "id": "7f4d8ce3",
   "metadata": {},
   "outputs": [
    {
     "data": {
      "text/plain": [
       "[{'id': '975625e7-658f-4670-a048-9855d779ccad',\n",
       "  'IngredientId': 'afffebb1-388d-414d-aabc-95b1ce01ec50',\n",
       "  'ingredientCategoryId': 'dde0b8dc-26a9-11f0-b7b0-d85ed33237df'},\n",
       " {'id': '7a603755-253e-44e5-bc7f-8253f3d52759',\n",
       "  'IngredientId': 'afffebb1-388d-414d-aabc-95b1ce01ec50',\n",
       "  'ingredientCategoryId': 'dde0b7ef-26a9-11f0-b7b0-d85ed33237df'}]"
      ]
     },
     "execution_count": 41,
     "metadata": {},
     "output_type": "execute_result"
    }
   ],
   "source": [
    "# create entities for ingredient categories selected\n",
    "ic_entities = []\n",
    "for index in select_categories:\n",
    "    ic_entities.append({\n",
    "        \"id\": str(uuid4()),\n",
    "        \"IngredientId\": ingredient_entity[\"id\"],\n",
    "        \"ingredientCategoryId\": ingredientCategories[index][0]\n",
    "    })\n",
    "    \n",
    "ic_entities"
   ]
  },
  {
   "cell_type": "code",
   "execution_count": 42,
   "id": "5b89aebb",
   "metadata": {},
   "outputs": [
    {
     "name": "stdout",
     "output_type": "stream",
     "text": [
      "26\n"
     ]
    }
   ],
   "source": [
    "# add energy and calories to entities\n",
    "nutrients_entities = []\n",
    "\n",
    "nutrients_entities.append({\n",
    "    \"id\": str(uuid4()),\n",
    "    \"ingredientId\": ingredient_entity[\"id\"],\n",
    "    \"nutrientTypeId\": nutrient_kj_id,\n",
    "    \"value\": data_energy[\"quantity\"]\n",
    "})\n",
    "\n",
    "nutrients_entities.append({\n",
    "    \"id\": str(uuid4()),\n",
    "    \"ingredientId\": ingredient_entity[\"id\"],\n",
    "    \"nutrientTypeId\": nutrient_kcal_id,\n",
    "    \"value\": data_calories[\"quantity\"]\n",
    "})\n",
    "\n",
    "# and remaining nutrients\n",
    "for n in data_nutrients:\n",
    "    if n[\"quantity\"] == 0:\n",
    "        continue\n",
    "    nd_id = [x for x in nutrients_data if x[2] == n[\"nutrientId\"]][0][0]\n",
    "    result = {\n",
    "        \"id\": str(uuid4()),\n",
    "        \"ingredientId\": ingredient_entity[\"id\"],\n",
    "        \"nutrientTypeId\": nd_id,\n",
    "        \"value\": n[\"quantity\"]\n",
    "    }\n",
    "    nutrients_entities.append(result)\n",
    "\n",
    "print(len(nutrients_entities))"
   ]
  },
  {
   "cell_type": "code",
   "execution_count": 43,
   "id": "eac77ff9",
   "metadata": {},
   "outputs": [],
   "source": [
    "# ensure to run db insert here!!!\n",
    "exist = db_query_single(f\"select * from ingredientnutrientsource where text = '{source_entity['text']}'\") != None"
   ]
  },
  {
   "cell_type": "code",
   "execution_count": 44,
   "id": "5f9472db",
   "metadata": {},
   "outputs": [
    {
     "name": "stdout",
     "output_type": "stream",
     "text": [
      "! Data inserted !\n"
     ]
    }
   ],
   "source": [
    "# insert table data\n",
    "if not exist:\n",
    "    db_insert(\"ingredient\", list(ingredient_entity.keys()), [list(ingredient_entity.values())])\n",
    "    db_insert(\"ingredientnutrientsource\", list(source_entity.keys()), [list(source_entity.values())])\n",
    "\n",
    "    ic_keys = list(ic_entities[0].keys())\n",
    "    ic_values = [list(x.values()) for x in ic_entities]\n",
    "    db_insert(\"ingredient_ingredientcategory\", ic_keys, ic_values)\n",
    "\n",
    "    nutr_keys= list(nutrients_entities[0].keys())\n",
    "    nutr_values = [list(x.values()) for x in nutrients_entities]\n",
    "    db_insert(\"nutrientingredient\", nutr_keys, nutr_values)\n",
    "    \n",
    "    print(\"! Data inserted !\")\n",
    "else:\n",
    "    print(\"Item existed in database\")"
   ]
  },
  {
   "cell_type": "code",
   "execution_count": null,
   "id": "6147e87f",
   "metadata": {},
   "outputs": [],
   "source": []
  }
 ],
 "metadata": {
  "kernelspec": {
   "display_name": ".venv",
   "language": "python",
   "name": "python3"
  },
  "language_info": {
   "codemirror_mode": {
    "name": "ipython",
    "version": 3
   },
   "file_extension": ".py",
   "mimetype": "text/x-python",
   "name": "python",
   "nbconvert_exporter": "python",
   "pygments_lexer": "ipython3",
   "version": "3.13.2"
  }
 },
 "nbformat": 4,
 "nbformat_minor": 5
}
